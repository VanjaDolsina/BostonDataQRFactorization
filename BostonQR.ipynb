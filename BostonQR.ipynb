{
 "cells": [
  {
   "cell_type": "code",
   "execution_count": 1,
   "metadata": {
    "collapsed": true
   },
   "outputs": [],
   "source": [
    "import numpy as np\n",
    "import pandas as pd\n",
    "from sklearn.datasets import load_boston\n",
    "import matplotlib.pyplot as plt\n",
    "from sklearn.linear_model import LinearRegression\n",
    "from sklearn.model_selection import train_test_split\n",
    "import seaborn as sns\n",
    "import time"
   ]
  },
  {
   "cell_type": "code",
   "execution_count": 2,
   "metadata": {
    "collapsed": true
   },
   "outputs": [],
   "source": [
    "np.set_printoptions(precision=4, threshold=np.inf, suppress=True)"
   ]
  },
  {
   "cell_type": "code",
   "execution_count": 3,
   "metadata": {
    "collapsed": true
   },
   "outputs": [],
   "source": [
    "bostonData = load_boston()"
   ]
  },
  {
   "cell_type": "code",
   "execution_count": 4,
   "metadata": {},
   "outputs": [
    {
     "name": "stdout",
     "output_type": "stream",
     "text": [
      "Boston keys: dict_keys(['data', 'target', 'feature_names', 'DESCR'])\n",
      "\n",
      "Boston data shape: (506, 13)\n",
      "\n",
      "Boston feature names: ['CRIM' 'ZN' 'INDUS' 'CHAS' 'NOX' 'RM' 'AGE' 'DIS' 'RAD' 'TAX' 'PTRATIO'\n",
      " 'B' 'LSTAT']\n",
      "\n"
     ]
    }
   ],
   "source": [
    "print(\"Boston keys: \" + str(bostonData.keys()) + \"\\n\")\n",
    "print(\"Boston data shape: \" + str(bostonData.data.shape) + \"\\n\")\n",
    "print(\"Boston feature names: \" + str(bostonData.feature_names) + \"\\n\")"
   ]
  },
  {
   "cell_type": "code",
   "execution_count": 5,
   "metadata": {},
   "outputs": [],
   "source": [
    "#print(bostonData.DESCR)"
   ]
  },
  {
   "cell_type": "code",
   "execution_count": 6,
   "metadata": {},
   "outputs": [
    {
     "name": "stdout",
     "output_type": "stream",
     "text": [
      "        0     1     2    3      4      5     6       7    8      9     10  \\\n",
      "0  0.00632  18.0  2.31  0.0  0.538  6.575  65.2  4.0900  1.0  296.0  15.3   \n",
      "1  0.02731   0.0  7.07  0.0  0.469  6.421  78.9  4.9671  2.0  242.0  17.8   \n",
      "2  0.02729   0.0  7.07  0.0  0.469  7.185  61.1  4.9671  2.0  242.0  17.8   \n",
      "3  0.03237   0.0  2.18  0.0  0.458  6.998  45.8  6.0622  3.0  222.0  18.7   \n",
      "4  0.06905   0.0  2.18  0.0  0.458  7.147  54.2  6.0622  3.0  222.0  18.7   \n",
      "\n",
      "       11    12  \n",
      "0  396.90  4.98  \n",
      "1  396.90  9.14  \n",
      "2  392.83  4.03  \n",
      "3  394.63  2.94  \n",
      "4  396.90  5.33  \n",
      "----------------------------------------------------------------------------------\n"
     ]
    }
   ],
   "source": [
    "bostonAsDataFrame = pd.DataFrame(bostonData.data)\n",
    "print(bostonAsDataFrame.head())\n",
    "print(\"----------------------------------------------------------------------------------\")"
   ]
  },
  {
   "cell_type": "code",
   "execution_count": 7,
   "metadata": {},
   "outputs": [
    {
     "name": "stdout",
     "output_type": "stream",
     "text": [
      "      CRIM    ZN  INDUS  CHAS    NOX     RM   AGE     DIS  RAD    TAX  \\\n",
      "0  0.00632  18.0   2.31   0.0  0.538  6.575  65.2  4.0900  1.0  296.0   \n",
      "1  0.02731   0.0   7.07   0.0  0.469  6.421  78.9  4.9671  2.0  242.0   \n",
      "2  0.02729   0.0   7.07   0.0  0.469  7.185  61.1  4.9671  2.0  242.0   \n",
      "3  0.03237   0.0   2.18   0.0  0.458  6.998  45.8  6.0622  3.0  222.0   \n",
      "4  0.06905   0.0   2.18   0.0  0.458  7.147  54.2  6.0622  3.0  222.0   \n",
      "\n",
      "   PTRATIO       B  LSTAT  \n",
      "0     15.3  396.90   4.98  \n",
      "1     17.8  396.90   9.14  \n",
      "2     17.8  392.83   4.03  \n",
      "3     18.7  394.63   2.94  \n",
      "4     18.7  396.90   5.33  \n",
      "----------------------------------------------------------------------------------\n"
     ]
    }
   ],
   "source": [
    "bostonAsDataFrame.columns = bostonData.feature_names\n",
    "print(bostonAsDataFrame.head())\n",
    "print(\"----------------------------------------------------------------------------------\")"
   ]
  },
  {
   "cell_type": "code",
   "execution_count": 8,
   "metadata": {},
   "outputs": [
    {
     "name": "stdout",
     "output_type": "stream",
     "text": [
      "      CRIM    ZN  INDUS  CHAS    NOX     RM   AGE     DIS  RAD    TAX  \\\n",
      "0  0.00632  18.0   2.31   0.0  0.538  6.575  65.2  4.0900  1.0  296.0   \n",
      "1  0.02731   0.0   7.07   0.0  0.469  6.421  78.9  4.9671  2.0  242.0   \n",
      "2  0.02729   0.0   7.07   0.0  0.469  7.185  61.1  4.9671  2.0  242.0   \n",
      "3  0.03237   0.0   2.18   0.0  0.458  6.998  45.8  6.0622  3.0  222.0   \n",
      "4  0.06905   0.0   2.18   0.0  0.458  7.147  54.2  6.0622  3.0  222.0   \n",
      "\n",
      "   PTRATIO       B  LSTAT  PRICE  \n",
      "0     15.3  396.90   4.98   24.0  \n",
      "1     17.8  396.90   9.14   21.6  \n",
      "2     17.8  392.83   4.03   34.7  \n",
      "3     18.7  394.63   2.94   33.4  \n",
      "4     18.7  396.90   5.33   36.2  \n",
      "----------------------------------------------------------------------------------\n"
     ]
    }
   ],
   "source": [
    "bostonAsDataFrame['PRICE'] = bostonData.target\n",
    "print(bostonAsDataFrame.head())\n",
    "print(\"----------------------------------------------------------------------------------\")"
   ]
  },
  {
   "cell_type": "code",
   "execution_count": 9,
   "metadata": {
    "collapsed": true
   },
   "outputs": [],
   "source": [
    "boston = bostonAsDataFrame.as_matrix()\n",
    "Q, R = np.linalg.qr(boston)"
   ]
  },
  {
   "cell_type": "code",
   "execution_count": 10,
   "metadata": {
    "collapsed": true
   },
   "outputs": [],
   "source": [
    "def QRFactorizationUsingGramSchmidtMethodOfOrthogonalization(matrix):\n",
    "    m, n = matrix.shape\n",
    "    Q = np.zeros([m, n], dtype=np.float64)\n",
    "    R = np.zeros([n, n], dtype=np.float64)\n",
    "    for j in range(n):\n",
    "        v = matrix[:, j]\n",
    "        for i in range(j):\n",
    "            R[i, j] = np.dot(Q[:, i], matrix[:, j])\n",
    "            v = v - (R[i, j] * Q[:, i])\n",
    "        R[j, j] = np.linalg.norm(v)\n",
    "        Q[:, j] = v / R[j, j]\n",
    "    return Q, R"
   ]
  },
  {
   "cell_type": "code",
   "execution_count": 11,
   "metadata": {
    "collapsed": true
   },
   "outputs": [],
   "source": [
    "def QRFactorizationUsingHausholderMethodOfTriangularization(matrix):\n",
    "    m, n = matrix.shape\n",
    "    R = np.copy(matrix)\n",
    "    Q = np.eye(m)\n",
    "    for k in range(n):\n",
    "        v = np.copy(R[k:, k])\n",
    "        v = np.reshape(v, (m-k, 1))\n",
    "        v[0] += np.sign(v[0]) * np.linalg.norm(v)\n",
    "        v /= np.linalg.norm(v)\n",
    "        R[k:, k:] = R[k:, k:] - 2 * v @ v.T @ R[k:, k:]\n",
    "        Q[k:] = Q[k:]-2 * v @ v.T @ Q[k:]\n",
    "    R = R[0:n, 0:]\n",
    "    Q = Q[0:n, 0:]\n",
    "    return R, Q.T"
   ]
  },
  {
   "cell_type": "code",
   "execution_count": 12,
   "metadata": {},
   "outputs": [
    {
     "name": "stdout",
     "output_type": "stream",
     "text": [
      "Time of execution \n",
      "\n",
      "Time needed to execute QR factorization using Gram-Schmidt method of orthogonalization: 0.0047106743\n"
     ]
    }
   ],
   "source": [
    "print(\"Time of execution \\n\")\n",
    "# cgsm short for classicalGramSchmidtMethod\n",
    "# Calculating time for classical Gram-Schmidt method\n",
    "timeOfStart = time.time()\n",
    "Qcgsm, Rcgsm = QRFactorizationUsingGramSchmidtMethodOfOrthogonalization(boston)\n",
    "timeOfEnd = time.time()\n",
    "timeNeededForCgsm = timeOfEnd - timeOfStart\n",
    "print(\"Time needed to execute QR factorization using Gram-Schmidt method of orthogonalization: %.10f\" % timeNeededForCgsm)"
   ]
  },
  {
   "cell_type": "code",
   "execution_count": 13,
   "metadata": {},
   "outputs": [
    {
     "name": "stdout",
     "output_type": "stream",
     "text": [
      "Time needed to execute QR factorization using Hausholder method of triangularization: 0.2124052048\n"
     ]
    }
   ],
   "source": [
    "# Calculating time of execution of Householder method\n",
    "timeOfStart = time.time()\n",
    "Rh, Qh = QRFactorizationUsingHausholderMethodOfTriangularization(boston)\n",
    "timeOfEnd = time.time()\n",
    "timeNeededForHm = timeOfEnd - timeOfStart\n",
    "print(\"Time needed to execute QR factorization using Hausholder method of triangularization: %.10f\" % timeNeededForHm)"
   ]
  },
  {
   "cell_type": "code",
   "execution_count": 14,
   "metadata": {},
   "outputs": [
    {
     "name": "stdout",
     "output_type": "stream",
     "text": [
      "Execution of Gram-Schmidt method takes 0.2076945305 seconds less than Householder method cyan\n",
      "----------------------------------------------------------------------------------\n"
     ]
    }
   ],
   "source": [
    "differenceBetweenTimesOfExecution = abs(timeNeededForCgsm - timeNeededForHm)\n",
    "if timeNeededForCgsm < timeNeededForHm:\n",
    "    print(\"Execution of Gram-Schmidt method takes %.10f seconds less than Householder method\" % differenceBetweenTimesOfExecution, 'cyan')\n",
    "elif timeNeededForCgsm > timeNeededForHm:\n",
    "    print(\"Execution of Householder method takes %.10f seconds less than Gram-Schmidt method\" % differenceBetweenTimesOfExecution, 'cyan')\n",
    "else:\n",
    "    print(\"Both methods take same amount of time to execute\")\n",
    "print(\"----------------------------------------------------------------------------------\")"
   ]
  },
  {
   "cell_type": "code",
   "execution_count": 15,
   "metadata": {},
   "outputs": [
    {
     "name": "stdout",
     "output_type": "stream",
     "text": [
      "Residuum \n",
      "\n",
      "Difference between original matrix and matrix obtained with QR factorization\n",
      "using Gram-Schmidt method is: 2.14506763709e-12\n",
      "Difference between original matrix and matrix obtained with QR factorization\n",
      "using Householder method is: 1.75634450818e-11\n"
     ]
    }
   ],
   "source": [
    "print(\"Residuum \\n\")\n",
    "residuumWithCgsm = np.linalg.norm(boston - Qcgsm @ Rcgsm)\n",
    "residuumWithHm = np.linalg.norm(boston - Qh @ Rh)\n",
    "print(\"Difference between original matrix and matrix obtained with QR factorization\\nusing Gram-Schmidt method is: %s\" % residuumWithCgsm)\n",
    "print(\"Difference between original matrix and matrix obtained with QR factorization\\nusing Householder method is: %s\" % residuumWithHm)"
   ]
  },
  {
   "cell_type": "code",
   "execution_count": 16,
   "metadata": {},
   "outputs": [
    {
     "name": "stdout",
     "output_type": "stream",
     "text": [
      "QR factorization using Gram-Schmidt method of orthogonalization is more precise\n",
      "----------------------------------------------------------------------------------\n"
     ]
    }
   ],
   "source": [
    "differenceBetweenResiduum = residuumWithCgsm - residuumWithHm\n",
    "\n",
    "if differenceBetweenResiduum < 0:\n",
    "    print(\"QR factorization using Gram-Schmidt method of orthogonalization is more precise\")\n",
    "elif differenceBetweenResiduum > 0:\n",
    "    print(\"QR factorization using Hausholder method of triangularization is more precise\")\n",
    "else:\n",
    "    print(\"Both methods are equally precise\")\n",
    "print(\"----------------------------------------------------------------------------------\")"
   ]
  },
  {
   "cell_type": "code",
   "execution_count": 17,
   "metadata": {
    "collapsed": true
   },
   "outputs": [],
   "source": [
    "X = bostonAsDataFrame.drop('PRICE', axis=1)\n",
    "Y = bostonAsDataFrame['PRICE']"
   ]
  },
  {
   "cell_type": "code",
   "execution_count": 19,
   "metadata": {},
   "outputs": [
    {
     "data": {
      "image/png": "[encoded data removed]",
      "text/plain": [
       "<matplotlib.figure.Figure at 0x1c05bfa76d8>"
      ]
     },
     "metadata": {},
     "output_type": "display_data"
    }
   ],
   "source": [
    "X_train, X_test, Y_train, Y_test = train_test_split(X, Y, test_size=0.4, random_state=10)\n",
    "\n",
    "lm = LinearRegression()\n",
    "lm.fit(X_train, Y_train)\n",
    "\n",
    "Y_pred = lm.predict(X_test)\n",
    "\n",
    "ax = sns.regplot(Y_test, Y_pred, color='c')\n",
    "plt.xlabel(\"Actual prices\")\n",
    "plt.ylabel(\"Predicted prices\")\n",
    "plt.title(\"Actual prices vs Predicted prices\")\n",
    "plt.show()"
   ]
  }
 ],
 "metadata": {
  "kernelspec": {
   "display_name": "Python 3",
   "language": "python",
   "name": "python3"
  },
  "language_info": {
   "codemirror_mode": {
    "name": "ipython",
    "version": 3
   },
   "file_extension": ".py",
   "mimetype": "text/x-python",
   "name": "python",
   "nbconvert_exporter": "python",
   "pygments_lexer": "ipython3",
   "version": "3.6.3"
  }
 },
 "nbformat": 4,
 "nbformat_minor": 2
}
