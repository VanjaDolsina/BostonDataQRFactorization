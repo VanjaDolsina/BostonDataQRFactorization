{
 "cells": [
  {
   "cell_type": "code",
   "execution_count": 1,
   "metadata": {
    "collapsed": true
   },
   "outputs": [],
   "source": [
    "import numpy as np\n",
    "import pandas as pd\n",
    "import scipy as sc\n",
    "from sklearn.datasets import load_boston\n",
    "import matplotlib.pyplot as plt\n",
    "from sklearn.linear_model import LinearRegression\n",
    "from sklearn.model_selection import train_test_split\n",
    "import seaborn as sns\n",
    "import math, time\n",
    "from sklearn import datasets, linear_model, metrics\n",
    "from sklearn.model_selection import train_test_split\n",
    "from sklearn.preprocessing import PolynomialFeatures\n",
    "from scipy import linalg"
   ]
  },
  {
   "cell_type": "code",
   "execution_count": 2,
   "metadata": {
    "collapsed": true
   },
   "outputs": [],
   "source": [
    "bostonData = load_boston()"
   ]
  },
  {
   "cell_type": "code",
   "execution_count": 3,
   "metadata": {},
   "outputs": [
    {
     "name": "stdout",
     "output_type": "stream",
     "text": [
      "        0     1     2    3      4      5     6       7    8      9     10  \\\n",
      "0  0.00632  18.0  2.31  0.0  0.538  6.575  65.2  4.0900  1.0  296.0  15.3   \n",
      "1  0.02731   0.0  7.07  0.0  0.469  6.421  78.9  4.9671  2.0  242.0  17.8   \n",
      "2  0.02729   0.0  7.07  0.0  0.469  7.185  61.1  4.9671  2.0  242.0  17.8   \n",
      "3  0.03237   0.0  2.18  0.0  0.458  6.998  45.8  6.0622  3.0  222.0  18.7   \n",
      "4  0.06905   0.0  2.18  0.0  0.458  7.147  54.2  6.0622  3.0  222.0  18.7   \n",
      "\n",
      "       11    12  \n",
      "0  396.90  4.98  \n",
      "1  396.90  9.14  \n",
      "2  392.83  4.03  \n",
      "3  394.63  2.94  \n",
      "4  396.90  5.33  \n"
     ]
    }
   ],
   "source": [
    "bostonAsDataFrame = pd.DataFrame(bostonData.data)\n",
    "print(bostonAsDataFrame.head())"
   ]
  },
  {
   "cell_type": "code",
   "execution_count": 4,
   "metadata": {},
   "outputs": [
    {
     "name": "stdout",
     "output_type": "stream",
     "text": [
      "      CRIM    ZN  INDUS  CHAS    NOX     RM   AGE     DIS  RAD    TAX  \\\n",
      "0  0.00632  18.0   2.31   0.0  0.538  6.575  65.2  4.0900  1.0  296.0   \n",
      "1  0.02731   0.0   7.07   0.0  0.469  6.421  78.9  4.9671  2.0  242.0   \n",
      "2  0.02729   0.0   7.07   0.0  0.469  7.185  61.1  4.9671  2.0  242.0   \n",
      "3  0.03237   0.0   2.18   0.0  0.458  6.998  45.8  6.0622  3.0  222.0   \n",
      "4  0.06905   0.0   2.18   0.0  0.458  7.147  54.2  6.0622  3.0  222.0   \n",
      "\n",
      "   PTRATIO       B  LSTAT  \n",
      "0     15.3  396.90   4.98  \n",
      "1     17.8  396.90   9.14  \n",
      "2     17.8  392.83   4.03  \n",
      "3     18.7  394.63   2.94  \n",
      "4     18.7  396.90   5.33  \n"
     ]
    }
   ],
   "source": [
    "bostonAsDataFrame.columns = bostonData.feature_names\n",
    "print(bostonAsDataFrame.head())"
   ]
  },
  {
   "cell_type": "code",
   "execution_count": 5,
   "metadata": {
    "collapsed": true
   },
   "outputs": [],
   "source": [
    "A = bostonAsDataFrame.as_matrix()\n",
    "b = bostonData.target"
   ]
  },
  {
   "cell_type": "code",
   "execution_count": 6,
   "metadata": {
    "collapsed": true
   },
   "outputs": [],
   "source": [
    "def QRFactorizationUsingGramSchmidt(matrix):\n",
    "    m, n = matrix.shape\n",
    "    Q = np.zeros([m, n], dtype=np.float64)\n",
    "    R = np.zeros([n, n], dtype=np.float64)\n",
    "    for j in range(n):\n",
    "        v = matrix[:, j]\n",
    "        for i in range(j):\n",
    "            R[i, j] = np.dot(Q[:, i], matrix[:, j])\n",
    "            v = v - (R[i, j] * Q[:, i])\n",
    "        R[j, j] = np.linalg.norm(v)\n",
    "        Q[:, j] = v / R[j, j]\n",
    "    return Q, R"
   ]
  },
  {
   "cell_type": "code",
   "execution_count": 7,
   "metadata": {
    "collapsed": true
   },
   "outputs": [],
   "source": [
    "def QRFactorizationUsingHausholder(matrix):\n",
    "    m, n = matrix.shape\n",
    "    R = np.copy(matrix)\n",
    "    Q = np.eye(m)\n",
    "    for k in range(n):\n",
    "        v = np.copy(R[k:, k])\n",
    "        v = np.reshape(v, (m-k, 1))\n",
    "        v[0] += np.sign(v[0]) * np.linalg.norm(v)\n",
    "        v /= np.linalg.norm(v)\n",
    "        R[k:, k:] = R[k:, k:] - 2 * v @ v.T @ R[k:, k:]\n",
    "        Q[k:] = Q[k:]-2 * v @ v.T @ Q[k:]\n",
    "    R = R[0:n, 0:]\n",
    "    Q = Q[0:n, 0:]\n",
    "    return R, Q.T"
   ]
  },
  {
   "cell_type": "code",
   "execution_count": 8,
   "metadata": {
    "collapsed": true
   },
   "outputs": [],
   "source": [
    "A_train, A_test, b_train, b_test = train_test_split(A, b, test_size=0.4, random_state=10)"
   ]
  },
  {
   "cell_type": "code",
   "execution_count": 9,
   "metadata": {
    "collapsed": true
   },
   "outputs": [],
   "source": [
    "def ls_qrGS(A,b):\n",
    "    Q, R = QRFactorizationUsingGramSchmidt(A)\n",
    "    z= sc.linalg.solve_triangular(R, Q.T @ b)\n",
    "    return z"
   ]
  },
  {
   "cell_type": "code",
   "execution_count": 10,
   "metadata": {
    "collapsed": true
   },
   "outputs": [],
   "source": [
    "def ls_qrHM(A,b):\n",
    "    R, Q = QRFactorizationUsingHausholder(A)\n",
    "    z= sc.linalg.solve_triangular(R, Q.T @ b)\n",
    "    return z"
   ]
  },
  {
   "cell_type": "code",
   "execution_count": 11,
   "metadata": {
    "collapsed": true
   },
   "outputs": [],
   "source": [
    "A_tr = np.c_[A_train, np.ones(A_train.shape[0])]\n",
    "A_te = np.c_[A_test, np.ones(A_test.shape[0])]"
   ]
  },
  {
   "cell_type": "code",
   "execution_count": 12,
   "metadata": {},
   "outputs": [
    {
     "name": "stdout",
     "output_type": "stream",
     "text": [
      "0.015627145767211914\n"
     ]
    }
   ],
   "source": [
    "timeOfStart = time.time()\n",
    "coeffs_GS = ls_qrGS(A_tr, b_train)\n",
    "timeOfEnd = time.time()\n",
    "timeNeededForCgsm = timeOfEnd - timeOfStart\n",
    "print(timeNeededForCgsm)"
   ]
  },
  {
   "cell_type": "code",
   "execution_count": 13,
   "metadata": {},
   "outputs": [
    {
     "name": "stdout",
     "output_type": "stream",
     "text": [
      "0.015592575073242188\n"
     ]
    }
   ],
   "source": [
    "timeOfStart = time.time()\n",
    "coeffs_HM = ls_qrHM(A_tr, b_train)\n",
    "timeOfEnd = time.time()\n",
    "timeNeededForHm = timeOfEnd - timeOfStart\n",
    "print(timeNeededForHm)"
   ]
  },
  {
   "cell_type": "code",
   "execution_count": 14,
   "metadata": {},
   "outputs": [
    {
     "name": "stdout",
     "output_type": "stream",
     "text": [
      "Execution of Householder method takes 0.0000345707 seconds less\n"
     ]
    }
   ],
   "source": [
    "differenceBetweenTimesOfExecution = abs(timeNeededForCgsm - timeNeededForHm)\n",
    "if timeNeededForCgsm < timeNeededForHm:\n",
    "    print(\"Execution of Gram-Schmidt method takes %.10f seconds less\" % differenceBetweenTimesOfExecution)\n",
    "elif timeNeededForCgsm > timeNeededForHm:\n",
    "    print(\"Execution of Householder method takes %.10f seconds less\" % differenceBetweenTimesOfExecution)\n",
    "else:\n",
    "    print(\"Both methods take same amount of time to execute\")"
   ]
  },
  {
   "cell_type": "code",
   "execution_count": 16,
   "metadata": {},
   "outputs": [
    {
     "ename": "ValueError",
     "evalue": "shapes (506,13) and (14,) not aligned: 13 (dim 1) != 14 (dim 0)",
     "output_type": "error",
     "traceback": [
      "\u001b[1;31m---------------------------------------------------------------------------\u001b[0m",
      "\u001b[1;31mValueError\u001b[0m                                Traceback (most recent call last)",
      "\u001b[1;32m<ipython-input-16-8ef792982c34>\u001b[0m in \u001b[0;36m<module>\u001b[1;34m()\u001b[0m\n\u001b[0;32m      1\u001b[0m \u001b[0mQcgsm\u001b[0m\u001b[1;33m,\u001b[0m \u001b[0mRcgsm\u001b[0m \u001b[1;33m=\u001b[0m \u001b[0mQRFactorizationUsingGramSchmidt\u001b[0m\u001b[1;33m(\u001b[0m\u001b[0mA\u001b[0m\u001b[1;33m)\u001b[0m\u001b[1;33m\u001b[0m\u001b[0m\n\u001b[1;32m----> 2\u001b[1;33m \u001b[0mresidualWithCgsm\u001b[0m \u001b[1;33m=\u001b[0m \u001b[0mnp\u001b[0m\u001b[1;33m.\u001b[0m\u001b[0mlinalg\u001b[0m\u001b[1;33m.\u001b[0m\u001b[0mnorm\u001b[0m\u001b[1;33m(\u001b[0m\u001b[0mb\u001b[0m\u001b[1;33m-\u001b[0m\u001b[0mQcgsm\u001b[0m\u001b[1;33m@\u001b[0m\u001b[0mRcgsm\u001b[0m\u001b[1;33m@\u001b[0m\u001b[0mcoeffs_GS\u001b[0m\u001b[1;33m)\u001b[0m\u001b[1;33m\u001b[0m\u001b[0m\n\u001b[0m\u001b[0;32m      3\u001b[0m \u001b[0mprint\u001b[0m\u001b[1;33m(\u001b[0m\u001b[0mresidualWithCgsm\u001b[0m\u001b[1;33m)\u001b[0m\u001b[1;33m\u001b[0m\u001b[0m\n",
      "\u001b[1;31mValueError\u001b[0m: shapes (506,13) and (14,) not aligned: 13 (dim 1) != 14 (dim 0)"
     ]
    }
   ],
   "source": [
    "Qcgsm, Rcgsm = QRFactorizationUsingGramSchmidt(A)\n",
    "residualWithCgsm = np.linalg.norm(b-Qcgsm@Rcgsm@coeffs_GS)\n",
    "print(residualWithCgsm)"
   ]
  },
  {
   "cell_type": "code",
   "execution_count": 17,
   "metadata": {},
   "outputs": [
    {
     "ename": "ValueError",
     "evalue": "shapes (506,13) and (14,) not aligned: 13 (dim 1) != 14 (dim 0)",
     "output_type": "error",
     "traceback": [
      "\u001b[1;31m---------------------------------------------------------------------------\u001b[0m",
      "\u001b[1;31mValueError\u001b[0m                                Traceback (most recent call last)",
      "\u001b[1;32m<ipython-input-17-4740278014db>\u001b[0m in \u001b[0;36m<module>\u001b[1;34m()\u001b[0m\n\u001b[0;32m      1\u001b[0m \u001b[0mRh\u001b[0m\u001b[1;33m,\u001b[0m \u001b[0mQh\u001b[0m \u001b[1;33m=\u001b[0m \u001b[0mQRFactorizationUsingHausholder\u001b[0m\u001b[1;33m(\u001b[0m\u001b[0mA\u001b[0m\u001b[1;33m)\u001b[0m\u001b[1;33m\u001b[0m\u001b[0m\n\u001b[1;32m----> 2\u001b[1;33m \u001b[0mresidualWithHm\u001b[0m \u001b[1;33m=\u001b[0m \u001b[0mnp\u001b[0m\u001b[1;33m.\u001b[0m\u001b[0mlinalg\u001b[0m\u001b[1;33m.\u001b[0m\u001b[0mnorm\u001b[0m\u001b[1;33m(\u001b[0m\u001b[0mb\u001b[0m\u001b[1;33m-\u001b[0m\u001b[0mQh\u001b[0m\u001b[1;33m@\u001b[0m\u001b[0mRh\u001b[0m\u001b[1;33m@\u001b[0m\u001b[0mcoeffs_HM\u001b[0m\u001b[1;33m)\u001b[0m\u001b[1;33m\u001b[0m\u001b[0m\n\u001b[0m\u001b[0;32m      3\u001b[0m \u001b[0mprint\u001b[0m\u001b[1;33m(\u001b[0m\u001b[0mresidualWithHm\u001b[0m\u001b[1;33m)\u001b[0m\u001b[1;33m\u001b[0m\u001b[0m\n",
      "\u001b[1;31mValueError\u001b[0m: shapes (506,13) and (14,) not aligned: 13 (dim 1) != 14 (dim 0)"
     ]
    }
   ],
   "source": [
    "Rh, Qh = QRFactorizationUsingHausholder(A)\n",
    "residualWithHm = np.linalg.norm(b-Qh@Rh@coeffs_HM)\n",
    "print(residualWithHm)"
   ]
  },
  {
   "cell_type": "code",
   "execution_count": 18,
   "metadata": {},
   "outputs": [
    {
     "ename": "NameError",
     "evalue": "name 'residualWithCgsm' is not defined",
     "output_type": "error",
     "traceback": [
      "\u001b[1;31m---------------------------------------------------------------------------\u001b[0m",
      "\u001b[1;31mNameError\u001b[0m                                 Traceback (most recent call last)",
      "\u001b[1;32m<ipython-input-18-f6f0c9a69d3b>\u001b[0m in \u001b[0;36m<module>\u001b[1;34m()\u001b[0m\n\u001b[1;32m----> 1\u001b[1;33m \u001b[0mdifferenceBetweenResidual\u001b[0m \u001b[1;33m=\u001b[0m \u001b[0mabs\u001b[0m\u001b[1;33m(\u001b[0m\u001b[0mresidualWithCgsm\u001b[0m \u001b[1;33m-\u001b[0m \u001b[0mresidualWithHm\u001b[0m\u001b[1;33m)\u001b[0m\u001b[1;33m\u001b[0m\u001b[0m\n\u001b[0m\u001b[0;32m      2\u001b[0m \u001b[1;32mif\u001b[0m \u001b[0mresidualWithCgsm\u001b[0m  \u001b[1;33m<\u001b[0m \u001b[0mresidualWithHm\u001b[0m\u001b[1;33m:\u001b[0m\u001b[1;33m\u001b[0m\u001b[0m\n\u001b[0;32m      3\u001b[0m     \u001b[0mprint\u001b[0m\u001b[1;33m(\u001b[0m\u001b[1;34m\"Residual with Gram-Schmidt method is smaller\"\u001b[0m\u001b[1;33m,\u001b[0m \u001b[0mdifferenceBetweenResidual\u001b[0m\u001b[1;33m)\u001b[0m\u001b[1;33m\u001b[0m\u001b[0m\n\u001b[0;32m      4\u001b[0m \u001b[1;32melif\u001b[0m \u001b[0mresidualWithCgsm\u001b[0m \u001b[1;33m>\u001b[0m \u001b[0mresidualWithHm\u001b[0m\u001b[1;33m:\u001b[0m\u001b[1;33m\u001b[0m\u001b[0m\n\u001b[0;32m      5\u001b[0m     \u001b[0mprint\u001b[0m\u001b[1;33m(\u001b[0m\u001b[1;34m\"Residual with Householder method is smaller \"\u001b[0m\u001b[1;33m,\u001b[0m \u001b[0mdifferenceBetweenResidual\u001b[0m\u001b[1;33m)\u001b[0m\u001b[1;33m\u001b[0m\u001b[0m\n",
      "\u001b[1;31mNameError\u001b[0m: name 'residualWithCgsm' is not defined"
     ]
    }
   ],
   "source": [
    "differenceBetweenResidual = abs(residualWithCgsm - residualWithHm)\n",
    "if residualWithCgsm  < residualWithHm:\n",
    "    print(\"Residual with Gram-Schmidt method is smaller\", differenceBetweenResidual)\n",
    "elif residualWithCgsm > residualWithHm:\n",
    "    print(\"Residual with Householder method is smaller \", differenceBetweenResidual)     \n",
    "else:\n",
    "    print(\"Residuals are equal!\")"
   ]
  },
  {
   "cell_type": "code",
   "execution_count": 19,
   "metadata": {},
   "outputs": [
    {
     "data": {
      "image/png": "[encoded data removed]",
      "text/plain": [
       "<matplotlib.figure.Figure at 0x2e7e77fdb70>"
      ]
     },
     "metadata": {},
     "output_type": "display_data"
    }
   ],
   "source": [
    "ax = sns.regplot(b_test,A_te@coeffs_HM, color='c')\n",
    "plt.xlabel(\"Actual prices\")\n",
    "plt.ylabel(\"Predicted prices\")\n",
    "plt.title(\"Actual prices vs Predicted prices\")\n",
    "plt.show()"
   ]
  },
  {
   "cell_type": "code",
   "execution_count": 20,
   "metadata": {},
   "outputs": [
    {
     "data": {
      "image/png": "[encoded data removed]",
      "text/plain": [
       "<matplotlib.figure.Figure at 0x2e7e9593c88>"
      ]
     },
     "metadata": {},
     "output_type": "display_data"
    }
   ],
   "source": [
    "A_train, A_test, b_train, b_test = train_test_split(A, b, test_size=0.4, random_state=10)\n",
    "lm = LinearRegression()\n",
    "lm.fit(A_train, b_train)\n",
    "\n",
    "Y_pred = lm.predict(A_test)\n",
    "\n",
    "plt.scatter(b_test, Y_pred, color='c')\n",
    "plt.xlabel(\"Prices: $Y_i$\")\n",
    "plt.ylabel(\"Predicted prices: $\\hat{Y}_i$\")\n",
    "plt.title(\"Prices vs Predicted prices: $Y_i$ vs $\\hat{Y}_i$\")\n",
    "plt.show()"
   ]
  },
  {
   "cell_type": "code",
   "execution_count": null,
   "metadata": {
    "collapsed": true
   },
   "outputs": [],
   "source": []
  }
 ],
 "metadata": {
  "kernelspec": {
   "display_name": "Python 3",
   "language": "python",
   "name": "python3"
  },
  "language_info": {
   "codemirror_mode": {
    "name": "ipython",
    "version": 3
   },
   "file_extension": ".py",
   "mimetype": "text/x-python",
   "name": "python",
   "nbconvert_exporter": "python",
   "pygments_lexer": "ipython3",
   "version": "3.6.3"
  }
 },
 "nbformat": 4,
 "nbformat_minor": 2
}
